{
  "nbformat": 4,
  "nbformat_minor": 0,
  "metadata": {
    "colab": {
      "name": "KNNRegresi_explained",
      "provenance": [],
      "include_colab_link": true
    },
    "kernelspec": {
      "name": "python3",
      "display_name": "Python 3"
    }
  },
  "cells": [
    {
      "cell_type": "markdown",
      "metadata": {
        "id": "view-in-github",
        "colab_type": "text"
      },
      "source": [
        "<a href=\"https://colab.research.google.com/github/hrtywhy/Machine-Learning/blob/main/KNN%20-%20Regresion.ipynb\" target=\"_parent\"><img src=\"https://colab.research.google.com/assets/colab-badge.svg\" alt=\"Open In Colab\"/></a>"
      ]
    },
    {
      "cell_type": "markdown",
      "metadata": {
        "id": "Ox2S4ouJb9c4"
      },
      "source": [
        "**KNN untuk permasalahan Regresi**\n",
        "\n",
        "KNN regression is a non-parametric method that, in an intuitive manner, approximates the association between independent variables and the continuous outcome by averaging the observations in the same neighbourhood. The size of the neighbourhood needs to be set by the analyst or can be chosen using cross-validation (we will see this later) to select the size that minimises the mean-squared error."
      ]
    },
    {
      "cell_type": "code",
      "metadata": {
        "id": "6SpXK_NIcPZy",
        "colab": {
          "base_uri": "https://localhost:8080/"
        },
        "outputId": "942291ca-1a6d-47c5-b72d-ed1b1e07514f"
      },
      "source": [
        "import numpy as np\n",
        "import pandas as pd\n",
        "from google.colab import drive\n",
        "drive.mount('/content/drive')"
      ],
      "execution_count": 29,
      "outputs": [
        {
          "output_type": "stream",
          "text": [
            "Drive already mounted at /content/drive; to attempt to forcibly remount, call drive.mount(\"/content/drive\", force_remount=True).\n"
          ],
          "name": "stdout"
        }
      ]
    },
    {
      "cell_type": "markdown",
      "metadata": {
        "id": "nodUUUQhcVAk"
      },
      "source": [
        "import dataset from drive \n",
        "\n"
      ]
    },
    {
      "cell_type": "code",
      "metadata": {
        "colab": {
          "base_uri": "https://localhost:8080/"
        },
        "id": "iKGgvbo-caps",
        "outputId": "23ce4f23-d7b2-420a-f82e-3c17bc49f5b9"
      },
      "source": [
        "path = \"/content/drive/My Drive/Dataset/regresi.csv\"\n",
        "data = pd.read_csv(path)\n",
        "array = data.values\n",
        "X = array[:,:2]\n",
        "Y = array[:,:-1]\n",
        "data.shape\n"
      ],
      "execution_count": 32,
      "outputs": [
        {
          "output_type": "execute_result",
          "data": {
            "text/plain": [
              "(10, 2)"
            ]
          },
          "metadata": {
            "tags": []
          },
          "execution_count": 32
        }
      ]
    },
    {
      "cell_type": "markdown",
      "metadata": {
        "id": "AmeY1GhCc4I-"
      },
      "source": [
        "show data `X` and `Y`"
      ]
    },
    {
      "cell_type": "code",
      "metadata": {
        "colab": {
          "base_uri": "https://localhost:8080/",
          "height": 359
        },
        "id": "MssTCdDGdOxr",
        "outputId": "98655266-9006-4e0e-b8ab-b17d147ab0d7"
      },
      "source": [
        "data.head(10)"
      ],
      "execution_count": 33,
      "outputs": [
        {
          "output_type": "execute_result",
          "data": {
            "text/html": [
              "<div>\n",
              "<style scoped>\n",
              "    .dataframe tbody tr th:only-of-type {\n",
              "        vertical-align: middle;\n",
              "    }\n",
              "\n",
              "    .dataframe tbody tr th {\n",
              "        vertical-align: top;\n",
              "    }\n",
              "\n",
              "    .dataframe thead th {\n",
              "        text-align: right;\n",
              "    }\n",
              "</style>\n",
              "<table border=\"1\" class=\"dataframe\">\n",
              "  <thead>\n",
              "    <tr style=\"text-align: right;\">\n",
              "      <th></th>\n",
              "      <th>Berat Badan(gr/ekor)</th>\n",
              "      <th>Harga</th>\n",
              "    </tr>\n",
              "  </thead>\n",
              "  <tbody>\n",
              "    <tr>\n",
              "      <th>0</th>\n",
              "      <td>2000</td>\n",
              "      <td>40</td>\n",
              "    </tr>\n",
              "    <tr>\n",
              "      <th>1</th>\n",
              "      <td>1000</td>\n",
              "      <td>20</td>\n",
              "    </tr>\n",
              "    <tr>\n",
              "      <th>2</th>\n",
              "      <td>3000</td>\n",
              "      <td>60</td>\n",
              "    </tr>\n",
              "    <tr>\n",
              "      <th>3</th>\n",
              "      <td>6000</td>\n",
              "      <td>120</td>\n",
              "    </tr>\n",
              "    <tr>\n",
              "      <th>4</th>\n",
              "      <td>78000</td>\n",
              "      <td>1560</td>\n",
              "    </tr>\n",
              "    <tr>\n",
              "      <th>5</th>\n",
              "      <td>111000</td>\n",
              "      <td>2220</td>\n",
              "    </tr>\n",
              "    <tr>\n",
              "      <th>6</th>\n",
              "      <td>88000</td>\n",
              "      <td>1760</td>\n",
              "    </tr>\n",
              "    <tr>\n",
              "      <th>7</th>\n",
              "      <td>7000</td>\n",
              "      <td>140</td>\n",
              "    </tr>\n",
              "    <tr>\n",
              "      <th>8</th>\n",
              "      <td>92000</td>\n",
              "      <td>1840</td>\n",
              "    </tr>\n",
              "    <tr>\n",
              "      <th>9</th>\n",
              "      <td>45000</td>\n",
              "      <td>900</td>\n",
              "    </tr>\n",
              "  </tbody>\n",
              "</table>\n",
              "</div>"
            ],
            "text/plain": [
              "   Berat Badan(gr/ekor)  Harga\n",
              "0                  2000     40\n",
              "1                  1000     20\n",
              "2                  3000     60\n",
              "3                  6000    120\n",
              "4                 78000   1560\n",
              "5                111000   2220\n",
              "6                 88000   1760\n",
              "7                  7000    140\n",
              "8                 92000   1840\n",
              "9                 45000    900"
            ]
          },
          "metadata": {
            "tags": []
          },
          "execution_count": 33
        }
      ]
    },
    {
      "cell_type": "code",
      "metadata": {
        "colab": {
          "base_uri": "https://localhost:8080/"
        },
        "id": "jJmJDF8qc7zJ",
        "outputId": "f3b7e87b-aeae-4ce3-d6fb-00372301bc1e"
      },
      "source": [
        "X"
      ],
      "execution_count": 34,
      "outputs": [
        {
          "output_type": "execute_result",
          "data": {
            "text/plain": [
              "array([[  2000,     40],\n",
              "       [  1000,     20],\n",
              "       [  3000,     60],\n",
              "       [  6000,    120],\n",
              "       [ 78000,   1560],\n",
              "       [111000,   2220],\n",
              "       [ 88000,   1760],\n",
              "       [  7000,    140],\n",
              "       [ 92000,   1840],\n",
              "       [ 45000,    900]])"
            ]
          },
          "metadata": {
            "tags": []
          },
          "execution_count": 34
        }
      ]
    },
    {
      "cell_type": "code",
      "metadata": {
        "colab": {
          "base_uri": "https://localhost:8080/"
        },
        "id": "09-6852IdDDP",
        "outputId": "58c1b7ab-0956-4b93-d4b4-03adb7e441c0"
      },
      "source": [
        "Y"
      ],
      "execution_count": 49,
      "outputs": [
        {
          "output_type": "execute_result",
          "data": {
            "text/plain": [
              "array([[  2000],\n",
              "       [  1000],\n",
              "       [  3000],\n",
              "       [  6000],\n",
              "       [ 78000],\n",
              "       [111000],\n",
              "       [ 88000],\n",
              "       [  7000],\n",
              "       [ 92000],\n",
              "       [ 45000]])"
            ]
          },
          "metadata": {
            "tags": []
          },
          "execution_count": 49
        }
      ]
    },
    {
      "cell_type": "markdown",
      "metadata": {
        "id": "0EsSVrJNoLMJ"
      },
      "source": [
        "  Bagi data menjadi 60 % training dan 40% testing \n",
        "  "
      ]
    },
    {
      "cell_type": "code",
      "metadata": {
        "id": "2N355viZoR-T"
      },
      "source": [
        "from sklearn.model_selection import train_test_split\n",
        "X_train, X_test, y_train, y_test = train_test_split(X, Y, test_size = 0.40)"
      ],
      "execution_count": 65,
      "outputs": []
    },
    {
      "cell_type": "markdown",
      "metadata": {
        "id": "HcGDNXTaduJI"
      },
      "source": [
        "Misalkan y = yang harus diperkirakan adalah \"Compressive Strength (28-day)(Mpa)\" \n",
        "\n",
        "masukan X ADALAH KOLOM : Cement,Slag,Fly ash,Water,SP,Coarse Aggr.,Fine Aggr.,SLUMP(cm),FLOW(cm)\n",
        "\n",
        "Kita akan menggunakan KNN untuk melakukan regresi dengan mengimport library KNN regresi sebagai berikut \n"
      ]
    },
    {
      "cell_type": "code",
      "metadata": {
        "colab": {
          "base_uri": "https://localhost:8080/"
        },
        "id": "PCnZPOn4eFyF",
        "outputId": "aa05d9e6-d823-40e2-8794-687b239fec0b"
      },
      "source": [
        "from sklearn.neighbors import KNeighborsRegressor\n",
        "knnr = KNeighborsRegressor(n_neighbors = 6)\n",
        "knnr.fit(X_train, y_train)"
      ],
      "execution_count": 68,
      "outputs": [
        {
          "output_type": "execute_result",
          "data": {
            "text/plain": [
              "KNeighborsRegressor(algorithm='auto', leaf_size=30, metric='minkowski',\n",
              "                    metric_params=None, n_jobs=None, n_neighbors=6, p=2,\n",
              "                    weights='uniform')"
            ]
          },
          "metadata": {
            "tags": []
          },
          "execution_count": 68
        }
      ]
    },
    {
      "cell_type": "markdown",
      "metadata": {
        "id": "Q4yRqfsueSsY"
      },
      "source": [
        "Menampilkan error y hasil prediksi \n",
        "\n",
        "dan y test "
      ]
    },
    {
      "cell_type": "code",
      "metadata": {
        "colab": {
          "base_uri": "https://localhost:8080/"
        },
        "id": "A4IC1U66egUH",
        "outputId": "40fb6cba-0ae2-4721-83b6-a2963c34814c"
      },
      "source": [
        "y_predict = knnr.predict(X_test)\n",
        "y_predict\n",
        "\n"
      ],
      "execution_count": 69,
      "outputs": [
        {
          "output_type": "execute_result",
          "data": {
            "text/plain": [
              "array([[44833.33333333],\n",
              "       [44833.33333333],\n",
              "       [44833.33333333],\n",
              "       [44833.33333333]])"
            ]
          },
          "metadata": {
            "tags": []
          },
          "execution_count": 69
        }
      ]
    },
    {
      "cell_type": "code",
      "metadata": {
        "id": "e-LPL6P4qFDz",
        "colab": {
          "base_uri": "https://localhost:8080/"
        },
        "outputId": "8f1697c8-1b9c-4fe2-cff1-1766ab3b8683"
      },
      "source": [
        "y_test"
      ],
      "execution_count": 70,
      "outputs": [
        {
          "output_type": "execute_result",
          "data": {
            "text/plain": [
              "array([[  7000],\n",
              "       [  1000],\n",
              "       [ 45000],\n",
              "       [111000]])"
            ]
          },
          "metadata": {
            "tags": []
          },
          "execution_count": 70
        }
      ]
    },
    {
      "cell_type": "markdown",
      "metadata": {
        "id": "jkn0OnffqVay"
      },
      "source": [
        "Menampilkan Mean square Error "
      ]
    },
    {
      "cell_type": "code",
      "metadata": {
        "id": "zez6rnu-p-7a",
        "colab": {
          "base_uri": "https://localhost:8080/"
        },
        "outputId": "3686474e-8e0e-46d1-c2c8-5dd580e08c63"
      },
      "source": [
        "print (\"The MSE is:\",format(np.power(y_test-y_predict,2).mean()))"
      ],
      "execution_count": 71,
      "outputs": [
        {
          "output_type": "stream",
          "text": [
            "The MSE is: 1932694444.4444442\n"
          ],
          "name": "stdout"
        }
      ]
    }
  ]
}